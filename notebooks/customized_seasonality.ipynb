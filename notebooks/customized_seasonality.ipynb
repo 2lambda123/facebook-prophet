{
 "cells": [
  {
   "cell_type": "code",
   "execution_count": 2,
   "metadata": {},
   "outputs": [],
   "source": [
    "%matplotlib inline\n",
    "from fbprophet import Prophet\n",
    "import pandas as pd\n",
    "from matplotlib import pyplot as plt\n",
    "import logging\n",
    "logging.getLogger('fbprophet').setLevel(logging.ERROR)\n",
    "import warnings\n",
    "warnings.filterwarnings(\"ignore\")\n",
    "df = pd.read_csv('../examples/example_wp_log_peyton_manning.csv')\n",
    "df['ds'] = pd.to_datetime(df['ds'])"
   ]
  },
  {
   "cell_type": "code",
   "execution_count": 3,
   "metadata": {},
   "outputs": [],
   "source": [
    "playoffs = pd.DataFrame({\n",
    "  'holiday': 'playoff',\n",
    "  'ds': pd.to_datetime(['2008-01-13', '2009-01-03', '2010-01-16',\n",
    "                        '2010-01-24', '2010-02-07', '2011-01-08',\n",
    "                        '2013-01-12', '2014-01-12', '2014-01-19',\n",
    "                        '2014-02-02', '2015-01-11', '2016-01-17',\n",
    "                        '2016-01-24', '2016-02-07']),\n",
    "  'lower_window': 0,\n",
    "  'upper_window': 1,\n",
    "})\n",
    "superbowls = pd.DataFrame({\n",
    "  'holiday': 'superbowl',\n",
    "  'ds': pd.to_datetime(['2010-02-07', '2014-02-02', '2016-02-07']),\n",
    "  'lower_window': 0,\n",
    "  'upper_window': 1,\n",
    "})\n",
    "holidays = pd.concat((playoffs, superbowls))"
   ]
  },
  {
   "cell_type": "markdown",
   "metadata": {},
   "source": [
    "### Modeling Custom Seasonality Functions\n",
    "We have previously modeled the effect of nfl sundays using additional regressors. We could also view the NFL weeks as having a completly different weekly seasonality that offseason weeks, which means that we would like to have two different weekly seasonality curves. This can be modeled with customized seasonalites by providing a DataFrame containg rows for each week telling if it is a NFL week or an off-season week. This is provided to the periods_df input parameter when constructing the model. "
   ]
  },
  {
   "cell_type": "code",
   "execution_count": 11,
   "metadata": {},
   "outputs": [
    {
     "data": {
      "text/html": [
       "<div>\n",
       "<style scoped>\n",
       "    .dataframe tbody tr th:only-of-type {\n",
       "        vertical-align: middle;\n",
       "    }\n",
       "\n",
       "    .dataframe tbody tr th {\n",
       "        vertical-align: top;\n",
       "    }\n",
       "\n",
       "    .dataframe thead th {\n",
       "        text-align: right;\n",
       "    }\n",
       "</style>\n",
       "<table border=\"1\" class=\"dataframe\">\n",
       "  <thead>\n",
       "    <tr style=\"text-align: right;\">\n",
       "      <th></th>\n",
       "      <th>ds_start</th>\n",
       "      <th>ds_end</th>\n",
       "      <th>fourier_order</th>\n",
       "      <th>period_name</th>\n",
       "    </tr>\n",
       "  </thead>\n",
       "  <tbody>\n",
       "    <tr>\n",
       "      <th>0</th>\n",
       "      <td>2007-12-10</td>\n",
       "      <td>2007-12-17</td>\n",
       "      <td>3</td>\n",
       "      <td>nfl_week</td>\n",
       "    </tr>\n",
       "    <tr>\n",
       "      <th>1</th>\n",
       "      <td>2007-12-17</td>\n",
       "      <td>2007-12-24</td>\n",
       "      <td>3</td>\n",
       "      <td>nfl_week</td>\n",
       "    </tr>\n",
       "    <tr>\n",
       "      <th>2</th>\n",
       "      <td>2007-12-24</td>\n",
       "      <td>2007-12-31</td>\n",
       "      <td>3</td>\n",
       "      <td>nfl_week</td>\n",
       "    </tr>\n",
       "    <tr>\n",
       "      <th>3</th>\n",
       "      <td>2007-12-31</td>\n",
       "      <td>2008-01-07</td>\n",
       "      <td>3</td>\n",
       "      <td>nfl_week</td>\n",
       "    </tr>\n",
       "    <tr>\n",
       "      <th>4</th>\n",
       "      <td>2008-01-07</td>\n",
       "      <td>2008-01-14</td>\n",
       "      <td>3</td>\n",
       "      <td>nfl_week</td>\n",
       "    </tr>\n",
       "  </tbody>\n",
       "</table>\n",
       "</div>"
      ],
      "text/plain": [
       "    ds_start     ds_end  fourier_order period_name\n",
       "0 2007-12-10 2007-12-17              3    nfl_week\n",
       "1 2007-12-17 2007-12-24              3    nfl_week\n",
       "2 2007-12-24 2007-12-31              3    nfl_week\n",
       "3 2007-12-31 2008-01-07              3    nfl_week\n",
       "4 2008-01-07 2008-01-14              3    nfl_week"
      ]
     },
     "execution_count": 11,
     "metadata": {},
     "output_type": "execute_result"
    }
   ],
   "source": [
    "def get_week_type(date):\n",
    "    if date.month > 8 or date.month < 2:\n",
    "        return 'nfl_week'\n",
    "    else:\n",
    "        return 'offseason_week'\n",
    "week_starts = pd.date_range(start=df['ds'].min(), end=df['ds'].max()+pd.DateOffset(days=366), freq=pd.DateOffset(days=7))\n",
    "week_periods = pd.DataFrame({'ds_start': week_starts,\n",
    "                             'ds_end': week_starts + pd.DateOffset(days=7),\n",
    "                             'fourier_order': 3}) #Providing paramters here similarily to the holiday DataFrame\n",
    "\n",
    "week_periods['period_name'] = week_periods['ds_start'].apply(get_week_type)\n",
    "week_periods.head()"
   ]
  },
  {
   "cell_type": "code",
   "execution_count": 12,
   "metadata": {},
   "outputs": [],
   "source": [
    "m = Prophet(holidays=holidays, periods_df=week_periods, \n",
    "            weekly_seasonality=False)\n",
    "m.fit(df)\n",
    "future = m.make_future_dataframe(periods=366)\n",
    "forecast = m.predict(future)"
   ]
  },
  {
   "cell_type": "code",
   "execution_count": 13,
   "metadata": {},
   "outputs": [
    {
     "data": {
      "image/png": "[encoded data removed]",
      "text/plain": [
       "<Figure size 576x360 with 1 Axes>"
      ]
     },
     "metadata": {
      "needs_background": "light"
     },
     "output_type": "display_data"
    }
   ],
   "source": [
    "import seaborn as sns\n",
    "from matplotlib.ticker import PercentFormatter\n",
    "forecast['weekday_name'] = forecast['ds'].dt.weekday_name\n",
    "plot_df = forecast.melt(id_vars='weekday_name', value_vars=['nfl_week', 'offseason_week'],\n",
    "                        value_name='weekly', var_name='week_type')\n",
    "plot_df = plot_df[plot_df.weekly != 0]\n",
    "sns.pointplot(x='weekday_name', y='weekly', hue = 'week_type', data=plot_df)\n",
    "plt.gcf().set_size_inches(8,5)"
   ]
  },
  {
   "cell_type": "markdown",
   "metadata": {},
   "source": [
    "The custom period feature enables modeling of seasonality in a large variety of additional cases. For example to use different daily seasonality on weekends and weekdays for subdaily data. Addtionaly, it lets use use exact days in month and year rather than approximating it as 30.5 and 365.25\n",
    "\n",
    "The concept of a period DataFrame can in future be further extended to allow Half Fourier Series, for when the underlying seasonality is discontinuous, for example between a restaurant closing and opening. Additionally period breaks could be added, to for example avoid applying seasonality when there's also an holiday on that day. \n"
   ]
  }
 ],
 "metadata": {
  "kernelspec": {
   "display_name": "Python 3",
   "language": "python",
   "name": "python3"
  },
  "language_info": {
   "codemirror_mode": {
    "name": "ipython",
    "version": 3
   },
   "file_extension": ".py",
   "mimetype": "text/x-python",
   "name": "python",
   "nbconvert_exporter": "python",
   "pygments_lexer": "ipython3",
   "version": "3.7.2"
  }
 },
 "nbformat": 4,
 "nbformat_minor": 2
}
